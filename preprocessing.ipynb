{
 "cells": [
  {
   "cell_type": "markdown",
   "id": "view-in-github",
   "metadata": {
    "id": "view-in-github"
   },
   "source": [
    "<a href=\"https://colab.research.google.com/github/davism02/Project-4-Predicting-Hospial-Readmission-for-Diabetes/blob/main/diabetes_model.ipynb\" target=\"_parent\"><img src=\"https://colab.research.google.com/assets/colab-badge.svg\" alt=\"Open In Colab\"/></a>"
   ]
  },
  {
   "cell_type": "code",
   "execution_count": 1,
   "id": "2pa0_H-c07vH",
   "metadata": {
    "id": "2pa0_H-c07vH"
   },
   "outputs": [],
   "source": [
    "url ='https://raw.githubusercontent.com/davism02/Project-4-Predicting-Hospial-Readmission-for-Diabetes/main/Resources/diabetic_data.csv'"
   ]
  },
  {
   "cell_type": "code",
   "execution_count": 21,
   "id": "b8f7aa44",
   "metadata": {
    "id": "b8f7aa44"
   },
   "outputs": [],
   "source": [
    "#Loading libraries \n",
    "import pandas as pd\n",
    "import numpy as np\n",
    "import matplotlib.pyplot as plt\n",
    "import seaborn as sns"
   ]
  },
  {
   "cell_type": "code",
   "execution_count": 3,
   "id": "6084ac9e",
   "metadata": {
    "id": "6084ac9e"
   },
   "outputs": [],
   "source": [
    "from sklearn.model_selection import train_test_split\n",
    "from sklearn.preprocessing import StandardScaler\n",
    "import tensorflow as tf"
   ]
  },
  {
   "cell_type": "code",
   "execution_count": 4,
   "id": "ExOPNYDu1Y1j",
   "metadata": {
    "colab": {
     "base_uri": "https://localhost:8080/",
     "height": 326
    },
    "id": "ExOPNYDu1Y1j",
    "outputId": "5125260d-1656-4319-d97d-5fb6158ac7cb"
   },
   "outputs": [
    {
     "data": {
      "text/html": [
       "<div>\n",
       "<style scoped>\n",
       "    .dataframe tbody tr th:only-of-type {\n",
       "        vertical-align: middle;\n",
       "    }\n",
       "\n",
       "    .dataframe tbody tr th {\n",
       "        vertical-align: top;\n",
       "    }\n",
       "\n",
       "    .dataframe thead th {\n",
       "        text-align: right;\n",
       "    }\n",
       "</style>\n",
       "<table border=\"1\" class=\"dataframe\">\n",
       "  <thead>\n",
       "    <tr style=\"text-align: right;\">\n",
       "      <th></th>\n",
       "      <th>encounter_id</th>\n",
       "      <th>patient_nbr</th>\n",
       "      <th>race</th>\n",
       "      <th>gender</th>\n",
       "      <th>age</th>\n",
       "      <th>weight</th>\n",
       "      <th>admission_type_id</th>\n",
       "      <th>discharge_disposition_id</th>\n",
       "      <th>admission_source_id</th>\n",
       "      <th>time_in_hospital</th>\n",
       "      <th>...</th>\n",
       "      <th>citoglipton</th>\n",
       "      <th>insulin</th>\n",
       "      <th>glyburide-metformin</th>\n",
       "      <th>glipizide-metformin</th>\n",
       "      <th>glimepiride-pioglitazone</th>\n",
       "      <th>metformin-rosiglitazone</th>\n",
       "      <th>metformin-pioglitazone</th>\n",
       "      <th>change</th>\n",
       "      <th>diabetesMed</th>\n",
       "      <th>readmitted</th>\n",
       "    </tr>\n",
       "  </thead>\n",
       "  <tbody>\n",
       "    <tr>\n",
       "      <th>0</th>\n",
       "      <td>2278392</td>\n",
       "      <td>8222157</td>\n",
       "      <td>Caucasian</td>\n",
       "      <td>Female</td>\n",
       "      <td>[0-10)</td>\n",
       "      <td>?</td>\n",
       "      <td>6</td>\n",
       "      <td>25</td>\n",
       "      <td>1</td>\n",
       "      <td>1</td>\n",
       "      <td>...</td>\n",
       "      <td>No</td>\n",
       "      <td>No</td>\n",
       "      <td>No</td>\n",
       "      <td>No</td>\n",
       "      <td>No</td>\n",
       "      <td>No</td>\n",
       "      <td>No</td>\n",
       "      <td>No</td>\n",
       "      <td>No</td>\n",
       "      <td>NO</td>\n",
       "    </tr>\n",
       "    <tr>\n",
       "      <th>1</th>\n",
       "      <td>149190</td>\n",
       "      <td>55629189</td>\n",
       "      <td>Caucasian</td>\n",
       "      <td>Female</td>\n",
       "      <td>[10-20)</td>\n",
       "      <td>?</td>\n",
       "      <td>1</td>\n",
       "      <td>1</td>\n",
       "      <td>7</td>\n",
       "      <td>3</td>\n",
       "      <td>...</td>\n",
       "      <td>No</td>\n",
       "      <td>Up</td>\n",
       "      <td>No</td>\n",
       "      <td>No</td>\n",
       "      <td>No</td>\n",
       "      <td>No</td>\n",
       "      <td>No</td>\n",
       "      <td>Ch</td>\n",
       "      <td>Yes</td>\n",
       "      <td>&gt;30</td>\n",
       "    </tr>\n",
       "    <tr>\n",
       "      <th>2</th>\n",
       "      <td>64410</td>\n",
       "      <td>86047875</td>\n",
       "      <td>AfricanAmerican</td>\n",
       "      <td>Female</td>\n",
       "      <td>[20-30)</td>\n",
       "      <td>?</td>\n",
       "      <td>1</td>\n",
       "      <td>1</td>\n",
       "      <td>7</td>\n",
       "      <td>2</td>\n",
       "      <td>...</td>\n",
       "      <td>No</td>\n",
       "      <td>No</td>\n",
       "      <td>No</td>\n",
       "      <td>No</td>\n",
       "      <td>No</td>\n",
       "      <td>No</td>\n",
       "      <td>No</td>\n",
       "      <td>No</td>\n",
       "      <td>Yes</td>\n",
       "      <td>NO</td>\n",
       "    </tr>\n",
       "    <tr>\n",
       "      <th>3</th>\n",
       "      <td>500364</td>\n",
       "      <td>82442376</td>\n",
       "      <td>Caucasian</td>\n",
       "      <td>Male</td>\n",
       "      <td>[30-40)</td>\n",
       "      <td>?</td>\n",
       "      <td>1</td>\n",
       "      <td>1</td>\n",
       "      <td>7</td>\n",
       "      <td>2</td>\n",
       "      <td>...</td>\n",
       "      <td>No</td>\n",
       "      <td>Up</td>\n",
       "      <td>No</td>\n",
       "      <td>No</td>\n",
       "      <td>No</td>\n",
       "      <td>No</td>\n",
       "      <td>No</td>\n",
       "      <td>Ch</td>\n",
       "      <td>Yes</td>\n",
       "      <td>NO</td>\n",
       "    </tr>\n",
       "    <tr>\n",
       "      <th>4</th>\n",
       "      <td>16680</td>\n",
       "      <td>42519267</td>\n",
       "      <td>Caucasian</td>\n",
       "      <td>Male</td>\n",
       "      <td>[40-50)</td>\n",
       "      <td>?</td>\n",
       "      <td>1</td>\n",
       "      <td>1</td>\n",
       "      <td>7</td>\n",
       "      <td>1</td>\n",
       "      <td>...</td>\n",
       "      <td>No</td>\n",
       "      <td>Steady</td>\n",
       "      <td>No</td>\n",
       "      <td>No</td>\n",
       "      <td>No</td>\n",
       "      <td>No</td>\n",
       "      <td>No</td>\n",
       "      <td>Ch</td>\n",
       "      <td>Yes</td>\n",
       "      <td>NO</td>\n",
       "    </tr>\n",
       "  </tbody>\n",
       "</table>\n",
       "<p>5 rows × 50 columns</p>\n",
       "</div>"
      ],
      "text/plain": [
       "   encounter_id  patient_nbr             race  gender      age weight  \\\n",
       "0       2278392      8222157        Caucasian  Female   [0-10)      ?   \n",
       "1        149190     55629189        Caucasian  Female  [10-20)      ?   \n",
       "2         64410     86047875  AfricanAmerican  Female  [20-30)      ?   \n",
       "3        500364     82442376        Caucasian    Male  [30-40)      ?   \n",
       "4         16680     42519267        Caucasian    Male  [40-50)      ?   \n",
       "\n",
       "   admission_type_id  discharge_disposition_id  admission_source_id  \\\n",
       "0                  6                        25                    1   \n",
       "1                  1                         1                    7   \n",
       "2                  1                         1                    7   \n",
       "3                  1                         1                    7   \n",
       "4                  1                         1                    7   \n",
       "\n",
       "   time_in_hospital  ... citoglipton insulin  glyburide-metformin  \\\n",
       "0                 1  ...          No      No                   No   \n",
       "1                 3  ...          No      Up                   No   \n",
       "2                 2  ...          No      No                   No   \n",
       "3                 2  ...          No      Up                   No   \n",
       "4                 1  ...          No  Steady                   No   \n",
       "\n",
       "   glipizide-metformin  glimepiride-pioglitazone  metformin-rosiglitazone  \\\n",
       "0                   No                        No                       No   \n",
       "1                   No                        No                       No   \n",
       "2                   No                        No                       No   \n",
       "3                   No                        No                       No   \n",
       "4                   No                        No                       No   \n",
       "\n",
       "   metformin-pioglitazone  change diabetesMed readmitted  \n",
       "0                      No      No          No         NO  \n",
       "1                      No      Ch         Yes        >30  \n",
       "2                      No      No         Yes         NO  \n",
       "3                      No      Ch         Yes         NO  \n",
       "4                      No      Ch         Yes         NO  \n",
       "\n",
       "[5 rows x 50 columns]"
      ]
     },
     "execution_count": 4,
     "metadata": {},
     "output_type": "execute_result"
    }
   ],
   "source": [
    "df = pd.read_csv(url)\n",
    "df.head()"
   ]
  },
  {
   "cell_type": "code",
   "execution_count": 5,
   "id": "494dc9cb",
   "metadata": {
    "colab": {
     "base_uri": "https://localhost:8080/",
     "height": 204
    },
    "id": "494dc9cb",
    "outputId": "e5edf975-f080-4392-c381-1442888dcbe3"
   },
   "outputs": [
    {
     "data": {
      "text/html": [
       "<div>\n",
       "<style scoped>\n",
       "    .dataframe tbody tr th:only-of-type {\n",
       "        vertical-align: middle;\n",
       "    }\n",
       "\n",
       "    .dataframe tbody tr th {\n",
       "        vertical-align: top;\n",
       "    }\n",
       "\n",
       "    .dataframe thead th {\n",
       "        text-align: right;\n",
       "    }\n",
       "</style>\n",
       "<table border=\"1\" class=\"dataframe\">\n",
       "  <thead>\n",
       "    <tr style=\"text-align: right;\">\n",
       "      <th></th>\n",
       "      <th>race</th>\n",
       "      <th>gender</th>\n",
       "      <th>age</th>\n",
       "      <th>weight</th>\n",
       "      <th>time_in_hospital</th>\n",
       "      <th>max_glu_serum</th>\n",
       "      <th>insulin</th>\n",
       "      <th>diabetesMed</th>\n",
       "      <th>readmitted</th>\n",
       "    </tr>\n",
       "  </thead>\n",
       "  <tbody>\n",
       "    <tr>\n",
       "      <th>0</th>\n",
       "      <td>Caucasian</td>\n",
       "      <td>Female</td>\n",
       "      <td>[0-10)</td>\n",
       "      <td>?</td>\n",
       "      <td>1</td>\n",
       "      <td>None</td>\n",
       "      <td>No</td>\n",
       "      <td>No</td>\n",
       "      <td>NO</td>\n",
       "    </tr>\n",
       "    <tr>\n",
       "      <th>1</th>\n",
       "      <td>Caucasian</td>\n",
       "      <td>Female</td>\n",
       "      <td>[10-20)</td>\n",
       "      <td>?</td>\n",
       "      <td>3</td>\n",
       "      <td>None</td>\n",
       "      <td>Up</td>\n",
       "      <td>Yes</td>\n",
       "      <td>&gt;30</td>\n",
       "    </tr>\n",
       "    <tr>\n",
       "      <th>2</th>\n",
       "      <td>AfricanAmerican</td>\n",
       "      <td>Female</td>\n",
       "      <td>[20-30)</td>\n",
       "      <td>?</td>\n",
       "      <td>2</td>\n",
       "      <td>None</td>\n",
       "      <td>No</td>\n",
       "      <td>Yes</td>\n",
       "      <td>NO</td>\n",
       "    </tr>\n",
       "    <tr>\n",
       "      <th>3</th>\n",
       "      <td>Caucasian</td>\n",
       "      <td>Male</td>\n",
       "      <td>[30-40)</td>\n",
       "      <td>?</td>\n",
       "      <td>2</td>\n",
       "      <td>None</td>\n",
       "      <td>Up</td>\n",
       "      <td>Yes</td>\n",
       "      <td>NO</td>\n",
       "    </tr>\n",
       "    <tr>\n",
       "      <th>4</th>\n",
       "      <td>Caucasian</td>\n",
       "      <td>Male</td>\n",
       "      <td>[40-50)</td>\n",
       "      <td>?</td>\n",
       "      <td>1</td>\n",
       "      <td>None</td>\n",
       "      <td>Steady</td>\n",
       "      <td>Yes</td>\n",
       "      <td>NO</td>\n",
       "    </tr>\n",
       "  </tbody>\n",
       "</table>\n",
       "</div>"
      ],
      "text/plain": [
       "              race  gender      age weight  time_in_hospital max_glu_serum  \\\n",
       "0        Caucasian  Female   [0-10)      ?                 1          None   \n",
       "1        Caucasian  Female  [10-20)      ?                 3          None   \n",
       "2  AfricanAmerican  Female  [20-30)      ?                 2          None   \n",
       "3        Caucasian    Male  [30-40)      ?                 2          None   \n",
       "4        Caucasian    Male  [40-50)      ?                 1          None   \n",
       "\n",
       "  insulin diabetesMed readmitted  \n",
       "0      No          No         NO  \n",
       "1      Up         Yes        >30  \n",
       "2      No         Yes         NO  \n",
       "3      Up         Yes         NO  \n",
       "4  Steady         Yes         NO  "
      ]
     },
     "execution_count": 5,
     "metadata": {},
     "output_type": "execute_result"
    }
   ],
   "source": [
    "# Include only the interested features\n",
    "\n",
    "df = df.iloc[:, [2,3,4,5,9,22,41,48,49]]\n",
    "\n",
    "df.head()"
   ]
  },
  {
   "cell_type": "code",
   "execution_count": 6,
   "id": "PylGMJ7uNtqG",
   "metadata": {
    "colab": {
     "base_uri": "https://localhost:8080/"
    },
    "id": "PylGMJ7uNtqG",
    "outputId": "2ea397b8-ba77-4837-866b-9f797f0c3d5c"
   },
   "outputs": [
    {
     "name": "stdout",
     "output_type": "stream",
     "text": [
      "race 2273\n",
      "gender 0\n",
      "age 0\n",
      "weight 98569\n",
      "max_glu_serum 0\n",
      "insulin 0\n",
      "diabetesMed 0\n",
      "readmitted 0\n"
     ]
    }
   ],
   "source": [
    "#Checking for missing values in dataset\n",
    "#In the dataset missing values are represented as '?' sign\n",
    "for col in df.columns:\n",
    "    if df[col].dtype == object:\n",
    "         print(col,df[col][df[col] == '?'].count())"
   ]
  },
  {
   "cell_type": "code",
   "execution_count": 7,
   "id": "ntxjzOEIOP-B",
   "metadata": {
    "colab": {
     "base_uri": "https://localhost:8080/",
     "height": 419
    },
    "id": "ntxjzOEIOP-B",
    "outputId": "64329901-49df-4b2a-e1b4-d459e004f847"
   },
   "outputs": [
    {
     "data": {
      "text/html": [
       "<div>\n",
       "<style scoped>\n",
       "    .dataframe tbody tr th:only-of-type {\n",
       "        vertical-align: middle;\n",
       "    }\n",
       "\n",
       "    .dataframe tbody tr th {\n",
       "        vertical-align: top;\n",
       "    }\n",
       "\n",
       "    .dataframe thead th {\n",
       "        text-align: right;\n",
       "    }\n",
       "</style>\n",
       "<table border=\"1\" class=\"dataframe\">\n",
       "  <thead>\n",
       "    <tr style=\"text-align: right;\">\n",
       "      <th></th>\n",
       "      <th>race</th>\n",
       "      <th>gender</th>\n",
       "      <th>age</th>\n",
       "      <th>weight</th>\n",
       "      <th>time_in_hospital</th>\n",
       "      <th>max_glu_serum</th>\n",
       "      <th>insulin</th>\n",
       "      <th>diabetesMed</th>\n",
       "      <th>readmitted</th>\n",
       "    </tr>\n",
       "  </thead>\n",
       "  <tbody>\n",
       "    <tr>\n",
       "      <th>1102</th>\n",
       "      <td>Caucasian</td>\n",
       "      <td>Male</td>\n",
       "      <td>[50-60)</td>\n",
       "      <td>[75-100)</td>\n",
       "      <td>2</td>\n",
       "      <td>None</td>\n",
       "      <td>Steady</td>\n",
       "      <td>Yes</td>\n",
       "      <td>&gt;30</td>\n",
       "    </tr>\n",
       "    <tr>\n",
       "      <th>1132</th>\n",
       "      <td>Caucasian</td>\n",
       "      <td>Female</td>\n",
       "      <td>[60-70)</td>\n",
       "      <td>[0-25)</td>\n",
       "      <td>5</td>\n",
       "      <td>None</td>\n",
       "      <td>Steady</td>\n",
       "      <td>Yes</td>\n",
       "      <td>&gt;30</td>\n",
       "    </tr>\n",
       "    <tr>\n",
       "      <th>1136</th>\n",
       "      <td>Caucasian</td>\n",
       "      <td>Female</td>\n",
       "      <td>[40-50)</td>\n",
       "      <td>[75-100)</td>\n",
       "      <td>3</td>\n",
       "      <td>None</td>\n",
       "      <td>Steady</td>\n",
       "      <td>Yes</td>\n",
       "      <td>NO</td>\n",
       "    </tr>\n",
       "    <tr>\n",
       "      <th>1190</th>\n",
       "      <td>Caucasian</td>\n",
       "      <td>Female</td>\n",
       "      <td>[70-80)</td>\n",
       "      <td>[75-100)</td>\n",
       "      <td>11</td>\n",
       "      <td>None</td>\n",
       "      <td>Steady</td>\n",
       "      <td>Yes</td>\n",
       "      <td>NO</td>\n",
       "    </tr>\n",
       "    <tr>\n",
       "      <th>1204</th>\n",
       "      <td>Caucasian</td>\n",
       "      <td>Female</td>\n",
       "      <td>[80-90)</td>\n",
       "      <td>[50-75)</td>\n",
       "      <td>9</td>\n",
       "      <td>None</td>\n",
       "      <td>Steady</td>\n",
       "      <td>Yes</td>\n",
       "      <td>&gt;30</td>\n",
       "    </tr>\n",
       "    <tr>\n",
       "      <th>...</th>\n",
       "      <td>...</td>\n",
       "      <td>...</td>\n",
       "      <td>...</td>\n",
       "      <td>...</td>\n",
       "      <td>...</td>\n",
       "      <td>...</td>\n",
       "      <td>...</td>\n",
       "      <td>...</td>\n",
       "      <td>...</td>\n",
       "    </tr>\n",
       "    <tr>\n",
       "      <th>101456</th>\n",
       "      <td>AfricanAmerican</td>\n",
       "      <td>Male</td>\n",
       "      <td>[60-70)</td>\n",
       "      <td>[75-100)</td>\n",
       "      <td>2</td>\n",
       "      <td>None</td>\n",
       "      <td>No</td>\n",
       "      <td>No</td>\n",
       "      <td>&gt;30</td>\n",
       "    </tr>\n",
       "    <tr>\n",
       "      <th>101516</th>\n",
       "      <td>Caucasian</td>\n",
       "      <td>Male</td>\n",
       "      <td>[60-70)</td>\n",
       "      <td>[100-125)</td>\n",
       "      <td>4</td>\n",
       "      <td>None</td>\n",
       "      <td>No</td>\n",
       "      <td>Yes</td>\n",
       "      <td>&gt;30</td>\n",
       "    </tr>\n",
       "    <tr>\n",
       "      <th>101640</th>\n",
       "      <td>Caucasian</td>\n",
       "      <td>Female</td>\n",
       "      <td>[70-80)</td>\n",
       "      <td>[50-75)</td>\n",
       "      <td>8</td>\n",
       "      <td>None</td>\n",
       "      <td>Steady</td>\n",
       "      <td>Yes</td>\n",
       "      <td>NO</td>\n",
       "    </tr>\n",
       "    <tr>\n",
       "      <th>101667</th>\n",
       "      <td>Caucasian</td>\n",
       "      <td>Male</td>\n",
       "      <td>[70-80)</td>\n",
       "      <td>[75-100)</td>\n",
       "      <td>4</td>\n",
       "      <td>None</td>\n",
       "      <td>No</td>\n",
       "      <td>Yes</td>\n",
       "      <td>&lt;30</td>\n",
       "    </tr>\n",
       "    <tr>\n",
       "      <th>101723</th>\n",
       "      <td>Caucasian</td>\n",
       "      <td>Male</td>\n",
       "      <td>[60-70)</td>\n",
       "      <td>[150-175)</td>\n",
       "      <td>3</td>\n",
       "      <td>None</td>\n",
       "      <td>No</td>\n",
       "      <td>Yes</td>\n",
       "      <td>&gt;30</td>\n",
       "    </tr>\n",
       "  </tbody>\n",
       "</table>\n",
       "<p>3059 rows × 9 columns</p>\n",
       "</div>"
      ],
      "text/plain": [
       "                   race  gender      age     weight  time_in_hospital  \\\n",
       "1102          Caucasian    Male  [50-60)   [75-100)                 2   \n",
       "1132          Caucasian  Female  [60-70)     [0-25)                 5   \n",
       "1136          Caucasian  Female  [40-50)   [75-100)                 3   \n",
       "1190          Caucasian  Female  [70-80)   [75-100)                11   \n",
       "1204          Caucasian  Female  [80-90)    [50-75)                 9   \n",
       "...                 ...     ...      ...        ...               ...   \n",
       "101456  AfricanAmerican    Male  [60-70)   [75-100)                 2   \n",
       "101516        Caucasian    Male  [60-70)  [100-125)                 4   \n",
       "101640        Caucasian  Female  [70-80)    [50-75)                 8   \n",
       "101667        Caucasian    Male  [70-80)   [75-100)                 4   \n",
       "101723        Caucasian    Male  [60-70)  [150-175)                 3   \n",
       "\n",
       "       max_glu_serum insulin diabetesMed readmitted  \n",
       "1102            None  Steady         Yes        >30  \n",
       "1132            None  Steady         Yes        >30  \n",
       "1136            None  Steady         Yes         NO  \n",
       "1190            None  Steady         Yes         NO  \n",
       "1204            None  Steady         Yes        >30  \n",
       "...              ...     ...         ...        ...  \n",
       "101456          None      No          No        >30  \n",
       "101516          None      No         Yes        >30  \n",
       "101640          None  Steady         Yes         NO  \n",
       "101667          None      No         Yes        <30  \n",
       "101723          None      No         Yes        >30  \n",
       "\n",
       "[3059 rows x 9 columns]"
      ]
     },
     "execution_count": 7,
     "metadata": {},
     "output_type": "execute_result"
    }
   ],
   "source": [
    "# Drop rows with invalid values (?)\n",
    "df = df[(df.race != \"?\") & (df.gender != \"?\") & (df.age != \"?\") & (df.weight != \"?\")]\n",
    "df"
   ]
  },
  {
   "cell_type": "code",
   "execution_count": 8,
   "id": "SZShNxcjOzhK",
   "metadata": {
    "colab": {
     "base_uri": "https://localhost:8080/",
     "height": 419
    },
    "id": "SZShNxcjOzhK",
    "outputId": "8f866029-d950-4fbc-d71a-2a28ca76091f"
   },
   "outputs": [
    {
     "data": {
      "text/html": [
       "<div>\n",
       "<style scoped>\n",
       "    .dataframe tbody tr th:only-of-type {\n",
       "        vertical-align: middle;\n",
       "    }\n",
       "\n",
       "    .dataframe tbody tr th {\n",
       "        vertical-align: top;\n",
       "    }\n",
       "\n",
       "    .dataframe thead th {\n",
       "        text-align: right;\n",
       "    }\n",
       "</style>\n",
       "<table border=\"1\" class=\"dataframe\">\n",
       "  <thead>\n",
       "    <tr style=\"text-align: right;\">\n",
       "      <th></th>\n",
       "      <th>race</th>\n",
       "      <th>gender</th>\n",
       "      <th>age</th>\n",
       "      <th>weight</th>\n",
       "      <th>time_in_hospital</th>\n",
       "      <th>max_glu_serum</th>\n",
       "      <th>insulin</th>\n",
       "      <th>diabetesMed</th>\n",
       "      <th>readmitted</th>\n",
       "    </tr>\n",
       "  </thead>\n",
       "  <tbody>\n",
       "    <tr>\n",
       "      <th>1102</th>\n",
       "      <td>Caucasian</td>\n",
       "      <td>Male</td>\n",
       "      <td>[50-60)</td>\n",
       "      <td>[75-100)</td>\n",
       "      <td>2</td>\n",
       "      <td>None</td>\n",
       "      <td>Steady</td>\n",
       "      <td>Yes</td>\n",
       "      <td>0</td>\n",
       "    </tr>\n",
       "    <tr>\n",
       "      <th>1132</th>\n",
       "      <td>Caucasian</td>\n",
       "      <td>Female</td>\n",
       "      <td>[60-70)</td>\n",
       "      <td>[0-25)</td>\n",
       "      <td>5</td>\n",
       "      <td>None</td>\n",
       "      <td>Steady</td>\n",
       "      <td>Yes</td>\n",
       "      <td>0</td>\n",
       "    </tr>\n",
       "    <tr>\n",
       "      <th>1136</th>\n",
       "      <td>Caucasian</td>\n",
       "      <td>Female</td>\n",
       "      <td>[40-50)</td>\n",
       "      <td>[75-100)</td>\n",
       "      <td>3</td>\n",
       "      <td>None</td>\n",
       "      <td>Steady</td>\n",
       "      <td>Yes</td>\n",
       "      <td>0</td>\n",
       "    </tr>\n",
       "    <tr>\n",
       "      <th>1190</th>\n",
       "      <td>Caucasian</td>\n",
       "      <td>Female</td>\n",
       "      <td>[70-80)</td>\n",
       "      <td>[75-100)</td>\n",
       "      <td>11</td>\n",
       "      <td>None</td>\n",
       "      <td>Steady</td>\n",
       "      <td>Yes</td>\n",
       "      <td>0</td>\n",
       "    </tr>\n",
       "    <tr>\n",
       "      <th>1204</th>\n",
       "      <td>Caucasian</td>\n",
       "      <td>Female</td>\n",
       "      <td>[80-90)</td>\n",
       "      <td>[50-75)</td>\n",
       "      <td>9</td>\n",
       "      <td>None</td>\n",
       "      <td>Steady</td>\n",
       "      <td>Yes</td>\n",
       "      <td>0</td>\n",
       "    </tr>\n",
       "    <tr>\n",
       "      <th>...</th>\n",
       "      <td>...</td>\n",
       "      <td>...</td>\n",
       "      <td>...</td>\n",
       "      <td>...</td>\n",
       "      <td>...</td>\n",
       "      <td>...</td>\n",
       "      <td>...</td>\n",
       "      <td>...</td>\n",
       "      <td>...</td>\n",
       "    </tr>\n",
       "    <tr>\n",
       "      <th>101456</th>\n",
       "      <td>AfricanAmerican</td>\n",
       "      <td>Male</td>\n",
       "      <td>[60-70)</td>\n",
       "      <td>[75-100)</td>\n",
       "      <td>2</td>\n",
       "      <td>None</td>\n",
       "      <td>No</td>\n",
       "      <td>No</td>\n",
       "      <td>0</td>\n",
       "    </tr>\n",
       "    <tr>\n",
       "      <th>101516</th>\n",
       "      <td>Caucasian</td>\n",
       "      <td>Male</td>\n",
       "      <td>[60-70)</td>\n",
       "      <td>[100-125)</td>\n",
       "      <td>4</td>\n",
       "      <td>None</td>\n",
       "      <td>No</td>\n",
       "      <td>Yes</td>\n",
       "      <td>0</td>\n",
       "    </tr>\n",
       "    <tr>\n",
       "      <th>101640</th>\n",
       "      <td>Caucasian</td>\n",
       "      <td>Female</td>\n",
       "      <td>[70-80)</td>\n",
       "      <td>[50-75)</td>\n",
       "      <td>8</td>\n",
       "      <td>None</td>\n",
       "      <td>Steady</td>\n",
       "      <td>Yes</td>\n",
       "      <td>0</td>\n",
       "    </tr>\n",
       "    <tr>\n",
       "      <th>101667</th>\n",
       "      <td>Caucasian</td>\n",
       "      <td>Male</td>\n",
       "      <td>[70-80)</td>\n",
       "      <td>[75-100)</td>\n",
       "      <td>4</td>\n",
       "      <td>None</td>\n",
       "      <td>No</td>\n",
       "      <td>Yes</td>\n",
       "      <td>1</td>\n",
       "    </tr>\n",
       "    <tr>\n",
       "      <th>101723</th>\n",
       "      <td>Caucasian</td>\n",
       "      <td>Male</td>\n",
       "      <td>[60-70)</td>\n",
       "      <td>[150-175)</td>\n",
       "      <td>3</td>\n",
       "      <td>None</td>\n",
       "      <td>No</td>\n",
       "      <td>Yes</td>\n",
       "      <td>0</td>\n",
       "    </tr>\n",
       "  </tbody>\n",
       "</table>\n",
       "<p>3059 rows × 9 columns</p>\n",
       "</div>"
      ],
      "text/plain": [
       "                   race  gender      age     weight  time_in_hospital  \\\n",
       "1102          Caucasian    Male  [50-60)   [75-100)                 2   \n",
       "1132          Caucasian  Female  [60-70)     [0-25)                 5   \n",
       "1136          Caucasian  Female  [40-50)   [75-100)                 3   \n",
       "1190          Caucasian  Female  [70-80)   [75-100)                11   \n",
       "1204          Caucasian  Female  [80-90)    [50-75)                 9   \n",
       "...                 ...     ...      ...        ...               ...   \n",
       "101456  AfricanAmerican    Male  [60-70)   [75-100)                 2   \n",
       "101516        Caucasian    Male  [60-70)  [100-125)                 4   \n",
       "101640        Caucasian  Female  [70-80)    [50-75)                 8   \n",
       "101667        Caucasian    Male  [70-80)   [75-100)                 4   \n",
       "101723        Caucasian    Male  [60-70)  [150-175)                 3   \n",
       "\n",
       "       max_glu_serum insulin diabetesMed  readmitted  \n",
       "1102            None  Steady         Yes           0  \n",
       "1132            None  Steady         Yes           0  \n",
       "1136            None  Steady         Yes           0  \n",
       "1190            None  Steady         Yes           0  \n",
       "1204            None  Steady         Yes           0  \n",
       "...              ...     ...         ...         ...  \n",
       "101456          None      No          No           0  \n",
       "101516          None      No         Yes           0  \n",
       "101640          None  Steady         Yes           0  \n",
       "101667          None      No         Yes           1  \n",
       "101723          None      No         Yes           0  \n",
       "\n",
       "[3059 rows x 9 columns]"
      ]
     },
     "execution_count": 8,
     "metadata": {},
     "output_type": "execute_result"
    }
   ],
   "source": [
    "# Convert readmitted column to binary field\n",
    "df = df.replace({'readmitted': {\"NO\": 0, \">30\": 0, \"<30\": 1}})\n",
    "df"
   ]
  },
  {
   "cell_type": "code",
   "execution_count": 9,
   "id": "b6f7e1c6",
   "metadata": {
    "colab": {
     "base_uri": "https://localhost:8080/"
    },
    "id": "b6f7e1c6",
    "outputId": "398f5f74-3769-48ee-abe9-1e5ccc70851f"
   },
   "outputs": [
    {
     "data": {
      "text/plain": [
       "race                object\n",
       "gender              object\n",
       "age                 object\n",
       "weight              object\n",
       "time_in_hospital     int64\n",
       "max_glu_serum       object\n",
       "insulin             object\n",
       "diabetesMed         object\n",
       "readmitted           int64\n",
       "dtype: object"
      ]
     },
     "execution_count": 9,
     "metadata": {},
     "output_type": "execute_result"
    }
   ],
   "source": [
    "#Checking data types of each variable\n",
    "df.dtypes"
   ]
  },
  {
   "cell_type": "code",
   "execution_count": 10,
   "id": "39602321",
   "metadata": {
    "colab": {
     "base_uri": "https://localhost:8080/"
    },
    "id": "39602321",
    "outputId": "5d825060-b60d-4858-e94c-7870074703c7"
   },
   "outputs": [
    {
     "data": {
      "text/plain": [
       "race                 4\n",
       "gender               2\n",
       "age                 10\n",
       "weight               9\n",
       "time_in_hospital    14\n",
       "max_glu_serum        1\n",
       "insulin              4\n",
       "diabetesMed          2\n",
       "readmitted           2\n",
       "dtype: int64"
      ]
     },
     "execution_count": 10,
     "metadata": {},
     "output_type": "execute_result"
    }
   ],
   "source": [
    "# Determine the number of unique values in each column.\n",
    "df.nunique()"
   ]
  },
  {
   "cell_type": "code",
   "execution_count": 11,
   "id": "3ec958b0",
   "metadata": {
    "id": "3ec958b0"
   },
   "outputs": [],
   "source": [
    "# Drop column since there is only 1 unique value\n",
    "df = df.drop(['max_glu_serum'], axis = 1)"
   ]
  },
  {
   "cell_type": "code",
   "execution_count": 12,
   "id": "mKlgG4EEuofq",
   "metadata": {
    "colab": {
     "base_uri": "https://localhost:8080/",
     "height": 419
    },
    "id": "mKlgG4EEuofq",
    "outputId": "23bbc26c-16a8-4f7c-b7f6-c239732c3382"
   },
   "outputs": [
    {
     "data": {
      "text/html": [
       "<div>\n",
       "<style scoped>\n",
       "    .dataframe tbody tr th:only-of-type {\n",
       "        vertical-align: middle;\n",
       "    }\n",
       "\n",
       "    .dataframe tbody tr th {\n",
       "        vertical-align: top;\n",
       "    }\n",
       "\n",
       "    .dataframe thead th {\n",
       "        text-align: right;\n",
       "    }\n",
       "</style>\n",
       "<table border=\"1\" class=\"dataframe\">\n",
       "  <thead>\n",
       "    <tr style=\"text-align: right;\">\n",
       "      <th></th>\n",
       "      <th>race</th>\n",
       "      <th>gender</th>\n",
       "      <th>age</th>\n",
       "      <th>weight</th>\n",
       "      <th>time_in_hospital</th>\n",
       "      <th>insulin</th>\n",
       "      <th>diabetesMed</th>\n",
       "      <th>readmitted</th>\n",
       "    </tr>\n",
       "  </thead>\n",
       "  <tbody>\n",
       "    <tr>\n",
       "      <th>1102</th>\n",
       "      <td>2</td>\n",
       "      <td>1</td>\n",
       "      <td>5</td>\n",
       "      <td>8</td>\n",
       "      <td>2</td>\n",
       "      <td>2</td>\n",
       "      <td>1</td>\n",
       "      <td>0</td>\n",
       "    </tr>\n",
       "    <tr>\n",
       "      <th>1132</th>\n",
       "      <td>2</td>\n",
       "      <td>0</td>\n",
       "      <td>6</td>\n",
       "      <td>1</td>\n",
       "      <td>5</td>\n",
       "      <td>2</td>\n",
       "      <td>1</td>\n",
       "      <td>0</td>\n",
       "    </tr>\n",
       "    <tr>\n",
       "      <th>1136</th>\n",
       "      <td>2</td>\n",
       "      <td>0</td>\n",
       "      <td>4</td>\n",
       "      <td>8</td>\n",
       "      <td>3</td>\n",
       "      <td>2</td>\n",
       "      <td>1</td>\n",
       "      <td>0</td>\n",
       "    </tr>\n",
       "    <tr>\n",
       "      <th>1190</th>\n",
       "      <td>2</td>\n",
       "      <td>0</td>\n",
       "      <td>7</td>\n",
       "      <td>8</td>\n",
       "      <td>11</td>\n",
       "      <td>2</td>\n",
       "      <td>1</td>\n",
       "      <td>0</td>\n",
       "    </tr>\n",
       "    <tr>\n",
       "      <th>1204</th>\n",
       "      <td>2</td>\n",
       "      <td>0</td>\n",
       "      <td>8</td>\n",
       "      <td>7</td>\n",
       "      <td>9</td>\n",
       "      <td>2</td>\n",
       "      <td>1</td>\n",
       "      <td>0</td>\n",
       "    </tr>\n",
       "    <tr>\n",
       "      <th>...</th>\n",
       "      <td>...</td>\n",
       "      <td>...</td>\n",
       "      <td>...</td>\n",
       "      <td>...</td>\n",
       "      <td>...</td>\n",
       "      <td>...</td>\n",
       "      <td>...</td>\n",
       "      <td>...</td>\n",
       "    </tr>\n",
       "    <tr>\n",
       "      <th>101456</th>\n",
       "      <td>0</td>\n",
       "      <td>1</td>\n",
       "      <td>6</td>\n",
       "      <td>8</td>\n",
       "      <td>2</td>\n",
       "      <td>1</td>\n",
       "      <td>0</td>\n",
       "      <td>0</td>\n",
       "    </tr>\n",
       "    <tr>\n",
       "      <th>101516</th>\n",
       "      <td>2</td>\n",
       "      <td>1</td>\n",
       "      <td>6</td>\n",
       "      <td>2</td>\n",
       "      <td>4</td>\n",
       "      <td>1</td>\n",
       "      <td>1</td>\n",
       "      <td>0</td>\n",
       "    </tr>\n",
       "    <tr>\n",
       "      <th>101640</th>\n",
       "      <td>2</td>\n",
       "      <td>0</td>\n",
       "      <td>7</td>\n",
       "      <td>7</td>\n",
       "      <td>8</td>\n",
       "      <td>2</td>\n",
       "      <td>1</td>\n",
       "      <td>0</td>\n",
       "    </tr>\n",
       "    <tr>\n",
       "      <th>101667</th>\n",
       "      <td>2</td>\n",
       "      <td>1</td>\n",
       "      <td>7</td>\n",
       "      <td>8</td>\n",
       "      <td>4</td>\n",
       "      <td>1</td>\n",
       "      <td>1</td>\n",
       "      <td>1</td>\n",
       "    </tr>\n",
       "    <tr>\n",
       "      <th>101723</th>\n",
       "      <td>2</td>\n",
       "      <td>1</td>\n",
       "      <td>6</td>\n",
       "      <td>4</td>\n",
       "      <td>3</td>\n",
       "      <td>1</td>\n",
       "      <td>1</td>\n",
       "      <td>0</td>\n",
       "    </tr>\n",
       "  </tbody>\n",
       "</table>\n",
       "<p>3059 rows × 8 columns</p>\n",
       "</div>"
      ],
      "text/plain": [
       "        race  gender  age  weight  time_in_hospital  insulin  diabetesMed  \\\n",
       "1102       2       1    5       8                 2        2            1   \n",
       "1132       2       0    6       1                 5        2            1   \n",
       "1136       2       0    4       8                 3        2            1   \n",
       "1190       2       0    7       8                11        2            1   \n",
       "1204       2       0    8       7                 9        2            1   \n",
       "...      ...     ...  ...     ...               ...      ...          ...   \n",
       "101456     0       1    6       8                 2        1            0   \n",
       "101516     2       1    6       2                 4        1            1   \n",
       "101640     2       0    7       7                 8        2            1   \n",
       "101667     2       1    7       8                 4        1            1   \n",
       "101723     2       1    6       4                 3        1            1   \n",
       "\n",
       "        readmitted  \n",
       "1102             0  \n",
       "1132             0  \n",
       "1136             0  \n",
       "1190             0  \n",
       "1204             0  \n",
       "...            ...  \n",
       "101456           0  \n",
       "101516           0  \n",
       "101640           0  \n",
       "101667           1  \n",
       "101723           0  \n",
       "\n",
       "[3059 rows x 8 columns]"
      ]
     },
     "execution_count": 12,
     "metadata": {},
     "output_type": "execute_result"
    }
   ],
   "source": [
    "# Convert categorical data to numeric with label encoding\n",
    "from sklearn import preprocessing\n",
    "le = preprocessing.LabelEncoder()\n",
    "df['race'] = le.fit_transform(df['race'])\n",
    "df['gender'] = le.fit_transform(df['gender'])\n",
    "df['age'] = le.fit_transform(df['age'])\n",
    "df['weight'] = le.fit_transform(df['weight'])\n",
    "df['insulin'] = le.fit_transform(df['insulin'])\n",
    "df['diabetesMed'] = le.fit_transform(df['diabetesMed'])\n",
    "df"
   ]
  },
  {
   "cell_type": "code",
   "execution_count": 13,
   "id": "lye6t-j85Uay",
   "metadata": {
    "colab": {
     "base_uri": "https://localhost:8080/"
    },
    "id": "lye6t-j85Uay",
    "outputId": "ca3b748d-2908-4cd7-f0c2-4566850209fd"
   },
   "outputs": [
    {
     "data": {
      "text/plain": [
       "(3059, 8)"
      ]
     },
     "execution_count": 13,
     "metadata": {},
     "output_type": "execute_result"
    }
   ],
   "source": [
    "df.shape"
   ]
  },
  {
   "cell_type": "code",
   "execution_count": 14,
   "id": "4ag7jX3B6YmF",
   "metadata": {
    "colab": {
     "base_uri": "https://localhost:8080/"
    },
    "id": "4ag7jX3B6YmF",
    "outputId": "107a491c-f14d-4089-8f4a-99971673fda7"
   },
   "outputs": [
    {
     "data": {
      "text/plain": [
       "race                0\n",
       "gender              0\n",
       "age                 0\n",
       "weight              0\n",
       "time_in_hospital    0\n",
       "insulin             0\n",
       "diabetesMed         0\n",
       "readmitted          0\n",
       "dtype: int64"
      ]
     },
     "execution_count": 14,
     "metadata": {},
     "output_type": "execute_result"
    }
   ],
   "source": [
    "# Check null values\n",
    "df.isnull().sum()"
   ]
  },
  {
   "cell_type": "code",
   "execution_count": 15,
   "id": "D92ufhQ29V4U",
   "metadata": {
    "colab": {
     "base_uri": "https://localhost:8080/",
     "height": 613
    },
    "id": "D92ufhQ29V4U",
    "outputId": "d3d6757d-60c8-4eaa-a8ea-5ecc59d5b986"
   },
   "outputs": [
    {
     "data": {
      "text/plain": [
       "<AxesSubplot:>"
      ]
     },
     "execution_count": 15,
     "metadata": {},
     "output_type": "execute_result"
    },
    {
     "data": {
      "image/png": "[encoded data removed]",
      "text/plain": [
       "<Figure size 1296x720 with 2 Axes>"
      ]
     },
     "metadata": {
      "needs_background": "light"
     },
     "output_type": "display_data"
    }
   ],
   "source": [
    "# Explore correlation between features via a heatmap\n",
    "fix, ax = plt.subplots(figsize = (18, 10))\n",
    "sns.heatmap(df.corr(), annot=True, vmin=-1, vmax=1, center =0, cmap = 'coolwarm', linewidths=3, linecolor='black',)"
   ]
  },
  {
   "cell_type": "code",
   "execution_count": 16,
   "id": "HwlzGqJkIirQ",
   "metadata": {
    "id": "HwlzGqJkIirQ"
   },
   "outputs": [],
   "source": [
    "df.to_csv(\"resources/final_data.csv\")"
   ]
  },
  {
   "cell_type": "code",
   "execution_count": 17,
   "id": "9b8f2cde",
   "metadata": {
    "id": "9b8f2cde"
   },
   "outputs": [],
   "source": [
    "# Split our preprocessed data into our features and target arrays\n",
    "y = df['readmitted']\n",
    "X = df.drop(columns = [\"readmitted\"], axis=1)"
   ]
  },
  {
   "cell_type": "code",
   "execution_count": 18,
   "id": "57f3a5b2",
   "metadata": {
    "id": "57f3a5b2"
   },
   "outputs": [],
   "source": [
    "# Split the preprocessed data into a training and testing dataset\n",
    "X_train, X_test, y_train, y_test = train_test_split(X,y,random_state= 42)"
   ]
  },
  {
   "cell_type": "code",
   "execution_count": 19,
   "id": "cd7fa827",
   "metadata": {
    "id": "cd7fa827"
   },
   "outputs": [],
   "source": [
    "# Create a StandardScaler instances\n",
    "scaler = StandardScaler()\n",
    "\n",
    "# Fit the StandardScaler\n",
    "X_scaler = scaler.fit(X_train)\n",
    "\n",
    "# Scale the data\n",
    "X_train_scaled = X_scaler.transform(X_train)\n",
    "X_test_scaled = X_scaler.transform(X_test)"
   ]
  },
  {
   "cell_type": "code",
   "execution_count": 20,
   "id": "IDDFPlKw7hpL",
   "metadata": {
    "colab": {
     "base_uri": "https://localhost:8080/"
    },
    "id": "IDDFPlKw7hpL",
    "outputId": "e9cacb61-ca16-4b71-ecdb-d94dbfe319fe"
   },
   "outputs": [
    {
     "data": {
      "text/plain": [
       "7"
      ]
     },
     "execution_count": 20,
     "metadata": {},
     "output_type": "execute_result"
    }
   ],
   "source": [
    "# Number of features in datast\n",
    "len(X.columns)"
   ]
  },
  {
   "cell_type": "markdown",
   "id": "f309478a",
   "metadata": {
    "id": "38BAwVGM96eC"
   },
   "source": [
    "Our heatmap shows strong correlation between a few columns. Not having insulin is highly correlated with not taking diabetes medicines. Having steady insulin is also correlated with taking diabetes medicine. "
   ]
  },
  {
   "cell_type": "code",
   "execution_count": 21,
   "id": "Z_44vuQp-loi",
   "metadata": {
    "id": "Z_44vuQp-loi"
   },
   "outputs": [],
   "source": [
    "# Logistic Regression\n",
    "from sklearn.linear_model import LogisticRegression\n",
    "import pickle\n",
    "\n",
    "lg = LogisticRegression(max_iter=1000)"
   ]
  },
  {
   "cell_type": "code",
   "execution_count": 22,
   "id": "Lt9C8O_L--tp",
   "metadata": {
    "colab": {
     "base_uri": "https://localhost:8080/"
    },
    "id": "Lt9C8O_L--tp",
    "outputId": "dacdbce6-da85-446a-f1a8-3c5bb48b4214"
   },
   "outputs": [
    {
     "data": {
      "text/plain": [
       "LogisticRegression(max_iter=1000)"
      ]
     },
     "execution_count": 22,
     "metadata": {},
     "output_type": "execute_result"
    }
   ],
   "source": [
    "lg.fit(X_train,y_train)"
   ]
  },
  {
   "cell_type": "code",
   "execution_count": 23,
   "id": "2uEB9htN_DBA",
   "metadata": {
    "colab": {
     "base_uri": "https://localhost:8080/"
    },
    "id": "2uEB9htN_DBA",
    "outputId": "8509d972-be66-4bcd-f956-13d42b16da05"
   },
   "outputs": [
    {
     "data": {
      "text/plain": [
       "array([0, 0, 0, 0, 0, 0, 0, 0, 0, 0, 0, 0, 0, 0, 0, 0, 0, 0, 0, 0, 0, 0,\n",
       "       0, 0, 0, 0, 0, 0, 0, 0, 0, 0, 0, 0, 0, 0, 0, 0, 0, 0, 0, 0, 0, 0,\n",
       "       0, 0, 0, 0, 0, 0, 0, 0, 0, 0, 0, 0, 0, 0, 0, 0, 0, 0, 0, 0, 0, 0,\n",
       "       0, 0, 0, 0, 0, 0, 0, 0, 0, 0, 0, 0, 0, 0, 0, 0, 0, 0, 0, 0, 0, 0,\n",
       "       0, 0, 0, 0, 0, 0, 0, 0, 0, 0, 0, 0, 0, 0, 0, 0, 0, 0, 0, 0, 0, 0,\n",
       "       0, 0, 0, 0, 0, 0, 0, 0, 0, 0, 0, 0, 0, 0, 0, 0, 0, 0, 0, 0, 0, 0,\n",
       "       0, 0, 0, 0, 0, 0, 0, 0, 0, 0, 0, 0, 0, 0, 0, 0, 0, 0, 0, 0, 0, 0,\n",
       "       0, 0, 0, 0, 0, 0, 0, 0, 0, 0, 0, 0, 0, 0, 0, 0, 0, 0, 0, 0, 0, 0,\n",
       "       0, 0, 0, 0, 0, 0, 0, 0, 0, 0, 0, 0, 0, 0, 0, 0, 0, 0, 0, 0, 0, 0,\n",
       "       0, 0, 0, 0, 0, 0, 0, 0, 0, 0, 0, 0, 0, 0, 0, 0, 0, 0, 0, 0, 0, 0,\n",
       "       0, 0, 0, 0, 0, 0, 0, 0, 0, 0, 0, 0, 0, 0, 0, 0, 0, 0, 0, 0, 0, 0,\n",
       "       0, 0, 0, 0, 0, 0, 0, 0, 0, 0, 0, 0, 0, 0, 0, 0, 0, 0, 0, 0, 0, 0,\n",
       "       0, 0, 0, 0, 0, 0, 0, 0, 0, 0, 0, 0, 0, 0, 0, 0, 0, 0, 0, 0, 0, 0,\n",
       "       0, 0, 0, 0, 0, 0, 0, 0, 0, 0, 0, 0, 0, 0, 0, 0, 0, 0, 0, 0, 0, 0,\n",
       "       0, 0, 0, 0, 0, 0, 0, 0, 0, 0, 0, 0, 0, 0, 0, 0, 0, 0, 0, 0, 0, 0,\n",
       "       0, 0, 0, 0, 0, 0, 0, 0, 0, 0, 0, 0, 0, 0, 0, 0, 0, 0, 0, 0, 0, 0,\n",
       "       0, 0, 0, 0, 0, 0, 0, 0, 0, 0, 0, 0, 0, 0, 0, 0, 0, 0, 0, 0, 0, 0,\n",
       "       0, 0, 0, 0, 0, 0, 0, 0, 0, 0, 0, 0, 0, 0, 0, 0, 0, 0, 0, 0, 0, 0,\n",
       "       0, 0, 0, 0, 0, 0, 0, 0, 0, 0, 0, 0, 0, 0, 0, 0, 0, 0, 0, 0, 0, 0,\n",
       "       0, 0, 0, 0, 0, 0, 0, 0, 0, 0, 0, 0, 0, 0, 0, 0, 0, 0, 0, 0, 0, 0,\n",
       "       0, 0, 0, 0, 0, 0, 0, 0, 0, 0, 0, 0, 0, 0, 0, 0, 0, 0, 0, 0, 0, 0,\n",
       "       0, 0, 0, 0, 0, 0, 0, 0, 0, 0, 0, 0, 0, 0, 0, 0, 0, 0, 0, 0, 0, 0,\n",
       "       0, 0, 0, 0, 0, 0, 0, 0, 0, 0, 0, 0, 0, 0, 0, 0, 0, 0, 0, 0, 0, 0,\n",
       "       0, 0, 0, 0, 0, 0, 0, 0, 0, 0, 0, 0, 0, 0, 0, 0, 0, 0, 0, 0, 0, 0,\n",
       "       0, 0, 0, 0, 0, 0, 0, 0, 0, 0, 0, 0, 0, 0, 0, 0, 0, 0, 0, 0, 0, 0,\n",
       "       0, 0, 0, 0, 0, 0, 0, 0, 0, 0, 0, 0, 0, 0, 0, 0, 0, 0, 0, 0, 0, 0,\n",
       "       0, 0, 0, 0, 0, 0, 0, 0, 0, 0, 0, 0, 0, 0, 0, 0, 0, 0, 0, 0, 0, 0,\n",
       "       0, 0, 0, 0, 0, 0, 0, 0, 0, 0, 0, 0, 0, 0, 0, 0, 0, 0, 0, 0, 0, 0,\n",
       "       0, 0, 0, 0, 0, 0, 0, 0, 0, 0, 0, 0, 0, 0, 0, 0, 0, 0, 0, 0, 0, 0,\n",
       "       0, 0, 0, 0, 0, 0, 0, 0, 0, 0, 0, 0, 0, 0, 0, 0, 0, 0, 0, 0, 0, 0,\n",
       "       0, 0, 0, 0, 0, 0, 0, 0, 0, 0, 0, 0, 0, 0, 0, 0, 0, 0, 0, 0, 0, 0,\n",
       "       0, 0, 0, 0, 0, 0, 0, 0, 0, 0, 0, 0, 0, 0, 0, 0, 0, 0, 0, 0, 0, 0,\n",
       "       0, 0, 0, 0, 0, 0, 0, 0, 0, 0, 0, 0, 0, 0, 0, 0, 0, 0, 0, 0, 0, 0,\n",
       "       0, 0, 0, 0, 0, 0, 0, 0, 0, 0, 0, 0, 0, 0, 0, 0, 0, 0, 0, 0, 0, 0,\n",
       "       0, 0, 0, 0, 0, 0, 0, 0, 0, 0, 0, 0, 0, 0, 0, 0, 0])"
      ]
     },
     "execution_count": 23,
     "metadata": {},
     "output_type": "execute_result"
    }
   ],
   "source": [
    "y_pred = lg.predict(X_test)\n",
    "y_pred"
   ]
  },
  {
   "cell_type": "code",
   "execution_count": 24,
   "id": "CdbRLP7UAoMn",
   "metadata": {
    "colab": {
     "base_uri": "https://localhost:8080/"
    },
    "id": "CdbRLP7UAoMn",
    "outputId": "4cea0204-8ddf-4eda-dda4-acbd680f8be8"
   },
   "outputs": [
    {
     "name": "stdout",
     "output_type": "stream",
     "text": [
      "Training Score: 0.8836094158674804\n",
      "Testing Score: 0.8967320261437909\n"
     ]
    }
   ],
   "source": [
    "print(f'Training Score: {lg.score(X_train, y_train)}')\n",
    "print(f'Testing Score: {lg.score(X_test, y_test)}')"
   ]
  },
  {
   "cell_type": "code",
   "execution_count": 25,
   "id": "lzTYC8mj_Mxx",
   "metadata": {
    "colab": {
     "base_uri": "https://localhost:8080/"
    },
    "id": "lzTYC8mj_Mxx",
    "outputId": "57c0fdde-3e18-4099-8ba6-0a549cbe78b5"
   },
   "outputs": [
    {
     "name": "stdout",
     "output_type": "stream",
     "text": [
      "                precision    recall  f1-score   support\n",
      "\n",
      "not readmitted       0.90      1.00      0.95       686\n",
      "    readmitted       0.00      0.00      0.00        79\n",
      "\n",
      "      accuracy                           0.90       765\n",
      "     macro avg       0.45      0.50      0.47       765\n",
      "  weighted avg       0.80      0.90      0.85       765\n",
      "\n"
     ]
    },
    {
     "name": "stderr",
     "output_type": "stream",
     "text": [
      "/usr/local/lib/python3.7/dist-packages/sklearn/metrics/_classification.py:1308: UndefinedMetricWarning: Precision and F-score are ill-defined and being set to 0.0 in labels with no predicted samples. Use `zero_division` parameter to control this behavior.\n",
      "  _warn_prf(average, modifier, msg_start, len(result))\n",
      "/usr/local/lib/python3.7/dist-packages/sklearn/metrics/_classification.py:1308: UndefinedMetricWarning: Precision and F-score are ill-defined and being set to 0.0 in labels with no predicted samples. Use `zero_division` parameter to control this behavior.\n",
      "  _warn_prf(average, modifier, msg_start, len(result))\n",
      "/usr/local/lib/python3.7/dist-packages/sklearn/metrics/_classification.py:1308: UndefinedMetricWarning: Precision and F-score are ill-defined and being set to 0.0 in labels with no predicted samples. Use `zero_division` parameter to control this behavior.\n",
      "  _warn_prf(average, modifier, msg_start, len(result))\n"
     ]
    }
   ],
   "source": [
    "from sklearn.metrics import confusion_matrix , classification_report\n",
    "\n",
    "target_names = ['not readmitted', 'readmitted']\n",
    "print(classification_report(y_test, y_pred, target_names=target_names))"
   ]
  },
  {
   "cell_type": "code",
   "execution_count": null,
   "id": "9wtmX29vAGfs",
   "metadata": {
    "id": "9wtmX29vAGfs"
   },
   "outputs": [],
   "source": [
    "# The classification report shows that recall is high, meaning that the classifier is missing some 'readmits' because it is being too careful. \n",
    "# The F1 score, a balance of precision and recall is higher for readmitted patients than for patients who are not readmitted. \n"
   ]
  },
  {
   "cell_type": "code",
   "execution_count": null,
   "id": "-Q7t0AhDGPie",
   "metadata": {
    "id": "-Q7t0AhDGPie"
   },
   "outputs": [],
   "source": [
    "# Random Forest\n"
   ]
  },
  {
   "cell_type": "code",
   "execution_count": 26,
   "id": "klO7nBj_5MPe",
   "metadata": {
    "colab": {
     "base_uri": "https://localhost:8080/"
    },
    "id": "klO7nBj_5MPe",
    "outputId": "cd3e63d2-a123-4a6c-ff07-509efcd29f71"
   },
   "outputs": [
    {
     "name": "stdout",
     "output_type": "stream",
     "text": [
      "Model: \"sequential\"\n",
      "_________________________________________________________________\n",
      " Layer (type)                Output Shape              Param #   \n",
      "=================================================================\n",
      " dense (Dense)               (None, 7)                 56        \n",
      "                                                                 \n",
      " dense_1 (Dense)             (None, 14)                112       \n",
      "                                                                 \n",
      " dense_2 (Dense)             (None, 21)                315       \n",
      "                                                                 \n",
      " dense_3 (Dense)             (None, 1)                 22        \n",
      "                                                                 \n",
      "=================================================================\n",
      "Total params: 505\n",
      "Trainable params: 505\n",
      "Non-trainable params: 0\n",
      "_________________________________________________________________\n"
     ]
    }
   ],
   "source": [
    "## Define the model - deep neural net, i.e., the number of input features and hidden nodes for each layer.\n",
    "\n",
    "number_input_features = len( X_train_scaled[0])\n",
    "hidden_nodes_layer1=7\n",
    "hidden_nodes_layer2=14\n",
    "hidden_nodes_layer3=21\n",
    "nn = tf.keras.models.Sequential()\n",
    "\n",
    "# First hidden layer\n",
    "nn.add(tf.keras.layers.Dense(units=hidden_nodes_layer1, input_dim=number_input_features, activation='relu'))\n",
    "\n",
    "# Second hidden layer\n",
    "nn.add(tf.keras.layers.Dense(units=hidden_nodes_layer2, activation='relu'))\n",
    "\n",
    "# Third hidden layer\n",
    "nn.add(tf.keras.layers.Dense(units=hidden_nodes_layer3, activation='relu'))\n",
    "\n",
    "# Output layer\n",
    "nn.add(tf.keras.layers.Dense(units=1, activation='sigmoid'))\n",
    "\n",
    "# Check the structure of the model\n",
    "nn.summary()"
   ]
  },
  {
   "cell_type": "code",
   "execution_count": 27,
   "id": "7VpoPXB85kH9",
   "metadata": {
    "id": "7VpoPXB85kH9"
   },
   "outputs": [],
   "source": [
    "# Compile the model\n",
    "nn.compile(loss = 'binary_crossentropy', optimizer = 'adam', metrics=['accuracy'])"
   ]
  },
  {
   "cell_type": "code",
   "execution_count": 28,
   "id": "0YC9LrfG5nug",
   "metadata": {
    "colab": {
     "base_uri": "https://localhost:8080/"
    },
    "id": "0YC9LrfG5nug",
    "outputId": "e5902150-ca0e-4838-a058-6b65f1651b99"
   },
   "outputs": [
    {
     "name": "stdout",
     "output_type": "stream",
     "text": [
      "Epoch 1/100\n",
      "61/61 [==============================] - 1s 5ms/step - loss: 0.6362 - accuracy: 0.7147 - val_loss: 0.4994 - val_accuracy: 0.8986\n",
      "Epoch 2/100\n",
      "61/61 [==============================] - 0s 2ms/step - loss: 0.4381 - accuracy: 0.8810 - val_loss: 0.3637 - val_accuracy: 0.8986\n",
      "Epoch 3/100\n",
      "61/61 [==============================] - 0s 3ms/step - loss: 0.3882 - accuracy: 0.8810 - val_loss: 0.3430 - val_accuracy: 0.8986\n",
      "Epoch 4/100\n",
      "61/61 [==============================] - 0s 2ms/step - loss: 0.3762 - accuracy: 0.8810 - val_loss: 0.3346 - val_accuracy: 0.8986\n",
      "Epoch 5/100\n",
      "61/61 [==============================] - 0s 2ms/step - loss: 0.3702 - accuracy: 0.8810 - val_loss: 0.3306 - val_accuracy: 0.8986\n",
      "Epoch 6/100\n",
      "61/61 [==============================] - 0s 2ms/step - loss: 0.3679 - accuracy: 0.8810 - val_loss: 0.3276 - val_accuracy: 0.8986\n",
      "Epoch 7/100\n",
      "61/61 [==============================] - 0s 2ms/step - loss: 0.3657 - accuracy: 0.8810 - val_loss: 0.3292 - val_accuracy: 0.8986\n",
      "Epoch 8/100\n",
      "61/61 [==============================] - 0s 3ms/step - loss: 0.3642 - accuracy: 0.8810 - val_loss: 0.3268 - val_accuracy: 0.8986\n",
      "Epoch 9/100\n",
      "61/61 [==============================] - 0s 2ms/step - loss: 0.3641 - accuracy: 0.8810 - val_loss: 0.3272 - val_accuracy: 0.8986\n",
      "Epoch 10/100\n",
      "61/61 [==============================] - 0s 2ms/step - loss: 0.3623 - accuracy: 0.8810 - val_loss: 0.3248 - val_accuracy: 0.8986\n",
      "Epoch 11/100\n",
      "61/61 [==============================] - 0s 3ms/step - loss: 0.3620 - accuracy: 0.8810 - val_loss: 0.3255 - val_accuracy: 0.8986\n",
      "Epoch 12/100\n",
      "61/61 [==============================] - 0s 3ms/step - loss: 0.3613 - accuracy: 0.8810 - val_loss: 0.3250 - val_accuracy: 0.8986\n",
      "Epoch 13/100\n",
      "61/61 [==============================] - 0s 2ms/step - loss: 0.3605 - accuracy: 0.8810 - val_loss: 0.3249 - val_accuracy: 0.8986\n",
      "Epoch 14/100\n",
      "61/61 [==============================] - 0s 2ms/step - loss: 0.3601 - accuracy: 0.8810 - val_loss: 0.3267 - val_accuracy: 0.8986\n",
      "Epoch 15/100\n",
      "61/61 [==============================] - 0s 2ms/step - loss: 0.3598 - accuracy: 0.8810 - val_loss: 0.3255 - val_accuracy: 0.8986\n",
      "Epoch 16/100\n",
      "61/61 [==============================] - 0s 2ms/step - loss: 0.3600 - accuracy: 0.8810 - val_loss: 0.3243 - val_accuracy: 0.8986\n",
      "Epoch 17/100\n",
      "61/61 [==============================] - 0s 2ms/step - loss: 0.3591 - accuracy: 0.8810 - val_loss: 0.3239 - val_accuracy: 0.8986\n",
      "Epoch 18/100\n",
      "61/61 [==============================] - 0s 2ms/step - loss: 0.3584 - accuracy: 0.8810 - val_loss: 0.3245 - val_accuracy: 0.8986\n",
      "Epoch 19/100\n",
      "61/61 [==============================] - 0s 2ms/step - loss: 0.3588 - accuracy: 0.8810 - val_loss: 0.3238 - val_accuracy: 0.8986\n",
      "Epoch 20/100\n",
      "61/61 [==============================] - 0s 2ms/step - loss: 0.3580 - accuracy: 0.8810 - val_loss: 0.3226 - val_accuracy: 0.8986\n",
      "Epoch 21/100\n",
      "61/61 [==============================] - 0s 3ms/step - loss: 0.3580 - accuracy: 0.8810 - val_loss: 0.3237 - val_accuracy: 0.8986\n",
      "Epoch 22/100\n",
      "61/61 [==============================] - 0s 3ms/step - loss: 0.3571 - accuracy: 0.8810 - val_loss: 0.3257 - val_accuracy: 0.8986\n",
      "Epoch 23/100\n",
      "61/61 [==============================] - 0s 3ms/step - loss: 0.3568 - accuracy: 0.8810 - val_loss: 0.3231 - val_accuracy: 0.8986\n",
      "Epoch 24/100\n",
      "61/61 [==============================] - 0s 2ms/step - loss: 0.3575 - accuracy: 0.8810 - val_loss: 0.3229 - val_accuracy: 0.8986\n",
      "Epoch 25/100\n",
      "61/61 [==============================] - 0s 3ms/step - loss: 0.3564 - accuracy: 0.8810 - val_loss: 0.3237 - val_accuracy: 0.8986\n",
      "Epoch 26/100\n",
      "61/61 [==============================] - 0s 2ms/step - loss: 0.3575 - accuracy: 0.8810 - val_loss: 0.3223 - val_accuracy: 0.8986\n",
      "Epoch 27/100\n",
      "61/61 [==============================] - 0s 2ms/step - loss: 0.3559 - accuracy: 0.8810 - val_loss: 0.3254 - val_accuracy: 0.8986\n",
      "Epoch 28/100\n",
      "61/61 [==============================] - 0s 2ms/step - loss: 0.3561 - accuracy: 0.8810 - val_loss: 0.3232 - val_accuracy: 0.8986\n",
      "Epoch 29/100\n",
      "61/61 [==============================] - 0s 2ms/step - loss: 0.3560 - accuracy: 0.8810 - val_loss: 0.3219 - val_accuracy: 0.8986\n",
      "Epoch 30/100\n",
      "61/61 [==============================] - 0s 2ms/step - loss: 0.3561 - accuracy: 0.8810 - val_loss: 0.3265 - val_accuracy: 0.8986\n",
      "Epoch 31/100\n",
      "61/61 [==============================] - 0s 2ms/step - loss: 0.3555 - accuracy: 0.8810 - val_loss: 0.3260 - val_accuracy: 0.8986\n",
      "Epoch 32/100\n",
      "61/61 [==============================] - 0s 2ms/step - loss: 0.3554 - accuracy: 0.8810 - val_loss: 0.3241 - val_accuracy: 0.8986\n",
      "Epoch 33/100\n",
      "61/61 [==============================] - 0s 3ms/step - loss: 0.3544 - accuracy: 0.8810 - val_loss: 0.3210 - val_accuracy: 0.8986\n",
      "Epoch 34/100\n",
      "61/61 [==============================] - 0s 3ms/step - loss: 0.3545 - accuracy: 0.8810 - val_loss: 0.3251 - val_accuracy: 0.8986\n",
      "Epoch 35/100\n",
      "61/61 [==============================] - 0s 3ms/step - loss: 0.3548 - accuracy: 0.8810 - val_loss: 0.3228 - val_accuracy: 0.8986\n",
      "Epoch 36/100\n",
      "61/61 [==============================] - 0s 2ms/step - loss: 0.3551 - accuracy: 0.8810 - val_loss: 0.3209 - val_accuracy: 0.8986\n",
      "Epoch 37/100\n",
      "61/61 [==============================] - 0s 2ms/step - loss: 0.3546 - accuracy: 0.8810 - val_loss: 0.3219 - val_accuracy: 0.8986\n",
      "Epoch 38/100\n",
      "61/61 [==============================] - 0s 2ms/step - loss: 0.3543 - accuracy: 0.8810 - val_loss: 0.3223 - val_accuracy: 0.8986\n",
      "Epoch 39/100\n",
      "61/61 [==============================] - 0s 2ms/step - loss: 0.3536 - accuracy: 0.8810 - val_loss: 0.3218 - val_accuracy: 0.8986\n",
      "Epoch 40/100\n",
      "61/61 [==============================] - 0s 3ms/step - loss: 0.3536 - accuracy: 0.8810 - val_loss: 0.3215 - val_accuracy: 0.8986\n",
      "Epoch 41/100\n",
      "61/61 [==============================] - 0s 3ms/step - loss: 0.3528 - accuracy: 0.8810 - val_loss: 0.3234 - val_accuracy: 0.8986\n",
      "Epoch 42/100\n",
      "61/61 [==============================] - 0s 2ms/step - loss: 0.3538 - accuracy: 0.8810 - val_loss: 0.3262 - val_accuracy: 0.8986\n",
      "Epoch 43/100\n",
      "61/61 [==============================] - 0s 2ms/step - loss: 0.3528 - accuracy: 0.8810 - val_loss: 0.3215 - val_accuracy: 0.8986\n",
      "Epoch 44/100\n",
      "61/61 [==============================] - 0s 2ms/step - loss: 0.3531 - accuracy: 0.8810 - val_loss: 0.3205 - val_accuracy: 0.8986\n",
      "Epoch 45/100\n",
      "61/61 [==============================] - 0s 3ms/step - loss: 0.3528 - accuracy: 0.8810 - val_loss: 0.3208 - val_accuracy: 0.8986\n",
      "Epoch 46/100\n",
      "61/61 [==============================] - 0s 2ms/step - loss: 0.3529 - accuracy: 0.8810 - val_loss: 0.3221 - val_accuracy: 0.8986\n",
      "Epoch 47/100\n",
      "61/61 [==============================] - 0s 3ms/step - loss: 0.3522 - accuracy: 0.8810 - val_loss: 0.3235 - val_accuracy: 0.8986\n",
      "Epoch 48/100\n",
      "61/61 [==============================] - 0s 3ms/step - loss: 0.3522 - accuracy: 0.8815 - val_loss: 0.3214 - val_accuracy: 0.8986\n",
      "Epoch 49/100\n",
      "61/61 [==============================] - 0s 2ms/step - loss: 0.3527 - accuracy: 0.8815 - val_loss: 0.3218 - val_accuracy: 0.8986\n",
      "Epoch 50/100\n",
      "61/61 [==============================] - 0s 3ms/step - loss: 0.3521 - accuracy: 0.8810 - val_loss: 0.3202 - val_accuracy: 0.8986\n",
      "Epoch 51/100\n",
      "61/61 [==============================] - 0s 2ms/step - loss: 0.3515 - accuracy: 0.8810 - val_loss: 0.3223 - val_accuracy: 0.8986\n",
      "Epoch 52/100\n",
      "61/61 [==============================] - 0s 2ms/step - loss: 0.3522 - accuracy: 0.8815 - val_loss: 0.3224 - val_accuracy: 0.8986\n",
      "Epoch 53/100\n",
      "61/61 [==============================] - 0s 2ms/step - loss: 0.3511 - accuracy: 0.8820 - val_loss: 0.3205 - val_accuracy: 0.8986\n",
      "Epoch 54/100\n",
      "61/61 [==============================] - 0s 2ms/step - loss: 0.3507 - accuracy: 0.8815 - val_loss: 0.3223 - val_accuracy: 0.8986\n",
      "Epoch 55/100\n",
      "61/61 [==============================] - 0s 2ms/step - loss: 0.3508 - accuracy: 0.8820 - val_loss: 0.3208 - val_accuracy: 0.8986\n",
      "Epoch 56/100\n",
      "61/61 [==============================] - 0s 2ms/step - loss: 0.3507 - accuracy: 0.8820 - val_loss: 0.3202 - val_accuracy: 0.8986\n",
      "Epoch 57/100\n",
      "61/61 [==============================] - 0s 2ms/step - loss: 0.3503 - accuracy: 0.8820 - val_loss: 0.3203 - val_accuracy: 0.8986\n",
      "Epoch 58/100\n",
      "61/61 [==============================] - 0s 3ms/step - loss: 0.3505 - accuracy: 0.8820 - val_loss: 0.3195 - val_accuracy: 0.8986\n",
      "Epoch 59/100\n",
      "61/61 [==============================] - 0s 2ms/step - loss: 0.3505 - accuracy: 0.8820 - val_loss: 0.3199 - val_accuracy: 0.8986\n",
      "Epoch 60/100\n",
      "61/61 [==============================] - 0s 2ms/step - loss: 0.3500 - accuracy: 0.8815 - val_loss: 0.3212 - val_accuracy: 0.8986\n",
      "Epoch 61/100\n",
      "61/61 [==============================] - 0s 2ms/step - loss: 0.3497 - accuracy: 0.8820 - val_loss: 0.3220 - val_accuracy: 0.8986\n",
      "Epoch 62/100\n",
      "61/61 [==============================] - 0s 2ms/step - loss: 0.3503 - accuracy: 0.8820 - val_loss: 0.3198 - val_accuracy: 0.8986\n",
      "Epoch 63/100\n",
      "61/61 [==============================] - 0s 2ms/step - loss: 0.3492 - accuracy: 0.8820 - val_loss: 0.3196 - val_accuracy: 0.8986\n",
      "Epoch 64/100\n",
      "61/61 [==============================] - 0s 2ms/step - loss: 0.3494 - accuracy: 0.8820 - val_loss: 0.3210 - val_accuracy: 0.8986\n",
      "Epoch 65/100\n",
      "61/61 [==============================] - 0s 3ms/step - loss: 0.3485 - accuracy: 0.8820 - val_loss: 0.3222 - val_accuracy: 0.8986\n",
      "Epoch 66/100\n",
      "61/61 [==============================] - 0s 2ms/step - loss: 0.3486 - accuracy: 0.8820 - val_loss: 0.3201 - val_accuracy: 0.8986\n",
      "Epoch 67/100\n",
      "61/61 [==============================] - 0s 3ms/step - loss: 0.3494 - accuracy: 0.8820 - val_loss: 0.3216 - val_accuracy: 0.8986\n",
      "Epoch 68/100\n",
      "61/61 [==============================] - 0s 3ms/step - loss: 0.3484 - accuracy: 0.8820 - val_loss: 0.3199 - val_accuracy: 0.8986\n",
      "Epoch 69/100\n",
      "61/61 [==============================] - 0s 2ms/step - loss: 0.3488 - accuracy: 0.8820 - val_loss: 0.3197 - val_accuracy: 0.8986\n",
      "Epoch 70/100\n",
      "61/61 [==============================] - 0s 2ms/step - loss: 0.3483 - accuracy: 0.8820 - val_loss: 0.3229 - val_accuracy: 0.8986\n",
      "Epoch 71/100\n",
      "61/61 [==============================] - 0s 2ms/step - loss: 0.3479 - accuracy: 0.8820 - val_loss: 0.3226 - val_accuracy: 0.8986\n",
      "Epoch 72/100\n",
      "61/61 [==============================] - 0s 2ms/step - loss: 0.3481 - accuracy: 0.8820 - val_loss: 0.3207 - val_accuracy: 0.8986\n",
      "Epoch 73/100\n",
      "61/61 [==============================] - 0s 2ms/step - loss: 0.3474 - accuracy: 0.8820 - val_loss: 0.3198 - val_accuracy: 0.8986\n",
      "Epoch 74/100\n",
      "61/61 [==============================] - 0s 2ms/step - loss: 0.3479 - accuracy: 0.8820 - val_loss: 0.3205 - val_accuracy: 0.8986\n",
      "Epoch 75/100\n",
      "61/61 [==============================] - 0s 3ms/step - loss: 0.3474 - accuracy: 0.8820 - val_loss: 0.3207 - val_accuracy: 0.8986\n",
      "Epoch 76/100\n",
      "61/61 [==============================] - 0s 2ms/step - loss: 0.3475 - accuracy: 0.8820 - val_loss: 0.3198 - val_accuracy: 0.8986\n",
      "Epoch 77/100\n",
      "61/61 [==============================] - 0s 2ms/step - loss: 0.3474 - accuracy: 0.8820 - val_loss: 0.3205 - val_accuracy: 0.8986\n",
      "Epoch 78/100\n",
      "61/61 [==============================] - 0s 2ms/step - loss: 0.3469 - accuracy: 0.8820 - val_loss: 0.3194 - val_accuracy: 0.8986\n",
      "Epoch 79/100\n",
      "61/61 [==============================] - 0s 2ms/step - loss: 0.3468 - accuracy: 0.8820 - val_loss: 0.3199 - val_accuracy: 0.8986\n",
      "Epoch 80/100\n",
      "61/61 [==============================] - 0s 2ms/step - loss: 0.3470 - accuracy: 0.8820 - val_loss: 0.3212 - val_accuracy: 0.8986\n",
      "Epoch 81/100\n",
      "61/61 [==============================] - 0s 2ms/step - loss: 0.3469 - accuracy: 0.8820 - val_loss: 0.3198 - val_accuracy: 0.8986\n",
      "Epoch 82/100\n",
      "61/61 [==============================] - 0s 3ms/step - loss: 0.3462 - accuracy: 0.8820 - val_loss: 0.3215 - val_accuracy: 0.8986\n",
      "Epoch 83/100\n",
      "61/61 [==============================] - 0s 2ms/step - loss: 0.3467 - accuracy: 0.8820 - val_loss: 0.3200 - val_accuracy: 0.8986\n",
      "Epoch 84/100\n",
      "61/61 [==============================] - 0s 3ms/step - loss: 0.3461 - accuracy: 0.8820 - val_loss: 0.3214 - val_accuracy: 0.8986\n",
      "Epoch 85/100\n",
      "61/61 [==============================] - 0s 3ms/step - loss: 0.3453 - accuracy: 0.8820 - val_loss: 0.3192 - val_accuracy: 0.8986\n",
      "Epoch 86/100\n",
      "61/61 [==============================] - 0s 2ms/step - loss: 0.3462 - accuracy: 0.8820 - val_loss: 0.3213 - val_accuracy: 0.8986\n",
      "Epoch 87/100\n",
      "61/61 [==============================] - 0s 2ms/step - loss: 0.3453 - accuracy: 0.8820 - val_loss: 0.3209 - val_accuracy: 0.8986\n",
      "Epoch 88/100\n",
      "61/61 [==============================] - 0s 2ms/step - loss: 0.3468 - accuracy: 0.8820 - val_loss: 0.3203 - val_accuracy: 0.8986\n",
      "Epoch 89/100\n",
      "61/61 [==============================] - 0s 2ms/step - loss: 0.3450 - accuracy: 0.8820 - val_loss: 0.3199 - val_accuracy: 0.8986\n",
      "Epoch 90/100\n",
      "61/61 [==============================] - 0s 2ms/step - loss: 0.3462 - accuracy: 0.8820 - val_loss: 0.3198 - val_accuracy: 0.8986\n",
      "Epoch 91/100\n",
      "61/61 [==============================] - 0s 3ms/step - loss: 0.3450 - accuracy: 0.8820 - val_loss: 0.3233 - val_accuracy: 0.8986\n",
      "Epoch 92/100\n",
      "61/61 [==============================] - 0s 3ms/step - loss: 0.3450 - accuracy: 0.8820 - val_loss: 0.3213 - val_accuracy: 0.8986\n",
      "Epoch 93/100\n",
      "61/61 [==============================] - 0s 2ms/step - loss: 0.3443 - accuracy: 0.8820 - val_loss: 0.3194 - val_accuracy: 0.8986\n",
      "Epoch 94/100\n",
      "61/61 [==============================] - 0s 3ms/step - loss: 0.3447 - accuracy: 0.8820 - val_loss: 0.3191 - val_accuracy: 0.8986\n",
      "Epoch 95/100\n",
      "61/61 [==============================] - 0s 2ms/step - loss: 0.3447 - accuracy: 0.8820 - val_loss: 0.3232 - val_accuracy: 0.8986\n",
      "Epoch 96/100\n",
      "61/61 [==============================] - 0s 2ms/step - loss: 0.3448 - accuracy: 0.8820 - val_loss: 0.3203 - val_accuracy: 0.8986\n",
      "Epoch 97/100\n",
      "61/61 [==============================] - 0s 2ms/step - loss: 0.3453 - accuracy: 0.8820 - val_loss: 0.3196 - val_accuracy: 0.8986\n",
      "Epoch 98/100\n",
      "61/61 [==============================] - 0s 3ms/step - loss: 0.3438 - accuracy: 0.8820 - val_loss: 0.3223 - val_accuracy: 0.8986\n",
      "Epoch 99/100\n",
      "61/61 [==============================] - 0s 2ms/step - loss: 0.3441 - accuracy: 0.8820 - val_loss: 0.3188 - val_accuracy: 0.8986\n",
      "Epoch 100/100\n",
      "61/61 [==============================] - 0s 3ms/step - loss: 0.3437 - accuracy: 0.8820 - val_loss: 0.3200 - val_accuracy: 0.8986\n"
     ]
    }
   ],
   "source": [
    "# Train the model\n",
    "fit_model = nn.fit(X_train_scaled,y_train,validation_split=0.15, epochs=100)"
   ]
  },
  {
   "cell_type": "code",
   "execution_count": 29,
   "id": "4WFWL4KE7VEn",
   "metadata": {
    "colab": {
     "base_uri": "https://localhost:8080/"
    },
    "id": "4WFWL4KE7VEn",
    "outputId": "85753ebb-b551-4db8-aaed-f65f1d5351f7"
   },
   "outputs": [
    {
     "name": "stdout",
     "output_type": "stream",
     "text": [
      "24/24 - 0s - loss: 0.3380 - accuracy: 0.8967 - 42ms/epoch - 2ms/step\n",
      "Loss: 0.3380376696586609, Accuracy: 0.8967320322990417\n"
     ]
    }
   ],
   "source": [
    "# Evaluate the model using the test data\n",
    "model_loss, model_accuracy = nn.evaluate(X_test_scaled,y_test,verbose=2)\n",
    "print(f\"Loss: {model_loss}, Accuracy: {model_accuracy}\")"
   ]
  },
  {
   "cell_type": "code",
   "execution_count": null,
   "id": "ffG5SUpv7Z5e",
   "metadata": {
    "colab": {
     "base_uri": "https://localhost:8080/",
     "height": 17
    },
    "id": "ffG5SUpv7Z5e",
    "outputId": "aa8356b5-2ab6-4548-ceb0-8d53eb66d692"
   },
   "outputs": [
    {
     "data": {
      "application/javascript": [
       "\n",
       "    async function download(id, filename, size) {\n",
       "      if (!google.colab.kernel.accessAllowed) {\n",
       "        return;\n",
       "      }\n",
       "      const div = document.createElement('div');\n",
       "      const label = document.createElement('label');\n",
       "      label.textContent = `Downloading \"${filename}\": `;\n",
       "      div.appendChild(label);\n",
       "      const progress = document.createElement('progress');\n",
       "      progress.max = size;\n",
       "      div.appendChild(progress);\n",
       "      document.body.appendChild(div);\n",
       "\n",
       "      const buffers = [];\n",
       "      let downloaded = 0;\n",
       "\n",
       "      const channel = await google.colab.kernel.comms.open(id);\n",
       "      // Send a message to notify the kernel that we're ready.\n",
       "      channel.send({})\n",
       "\n",
       "      for await (const message of channel.messages) {\n",
       "        // Send a message to notify the kernel that we're ready.\n",
       "        channel.send({})\n",
       "        if (message.buffers) {\n",
       "          for (const buffer of message.buffers) {\n",
       "            buffers.push(buffer);\n",
       "            downloaded += buffer.byteLength;\n",
       "            progress.value = downloaded;\n",
       "          }\n",
       "        }\n",
       "      }\n",
       "      const blob = new Blob(buffers, {type: 'application/binary'});\n",
       "      const a = document.createElement('a');\n",
       "      a.href = window.URL.createObjectURL(blob);\n",
       "      a.download = filename;\n",
       "      div.appendChild(a);\n",
       "      a.click();\n",
       "      div.remove();\n",
       "    }\n",
       "  "
      ],
      "text/plain": [
       "<IPython.core.display.Javascript object>"
      ]
     },
     "metadata": {},
     "output_type": "display_data"
    },
    {
     "data": {
      "application/javascript": [
       "download(\"download_7f3fc75f-4c38-43f5-8fd6-97f2c8bc29c4\", \"Model_1.h5\", 48600)"
      ],
      "text/plain": [
       "<IPython.core.display.Javascript object>"
      ]
     },
     "metadata": {},
     "output_type": "display_data"
    }
   ],
   "source": [
    "# Export our model to HDF5 file\n",
    "from google.colab import files\n",
    "\n",
    "nn.save('/content/Model_1.h5')\n",
    "files.download('/content/Model_1.h5')"
   ]
  }
 ],
 "metadata": {
  "colab": {
   "collapsed_sections": [],
   "name": "diabetes_model_v.2.ipynb",
   "provenance": []
  },
  "kernelspec": {
   "display_name": "Python 3",
   "language": "python",
   "name": "python3"
  },
  "language_info": {
   "codemirror_mode": {
    "name": "ipython",
    "version": 3
   },
   "file_extension": ".py",
   "mimetype": "text/x-python",
   "name": "python",
   "nbconvert_exporter": "python",
   "pygments_lexer": "ipython3",
   "version": "3.8.8"
  }
 },
 "nbformat": 4,
 "nbformat_minor": 5
}
