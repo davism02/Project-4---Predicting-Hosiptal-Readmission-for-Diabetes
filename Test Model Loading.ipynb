{
 "cells": [
  {
   "cell_type": "code",
   "execution_count": 1,
   "id": "c1731fee",
   "metadata": {},
   "outputs": [
    {
     "name": "stdout",
     "output_type": "stream",
     "text": [
      "RandomForestClassifier(max_depth=25, min_samples_split=10, n_estimators=10)\n"
     ]
    }
   ],
   "source": [
    "# coding=utf-8\n",
    "import numpy as np\n",
    "import os\n",
    "import time\n",
    "from flask import Flask, request, jsonify, render_template\n",
    "import joblib\n",
    "\n",
    "#from flask.ext.heroku import Heroku\n",
    "#from tensorflow.keras.models import load_model\n",
    "\n",
    "# Define a flask app\n",
    "app = Flask(__name__)\n",
    "model = joblib.load('models/rm_model.h5')\n",
    "\n",
    "print(model)"
   ]
  },
  {
   "cell_type": "code",
   "execution_count": 2,
   "id": "efa42ca3",
   "metadata": {},
   "outputs": [],
   "source": [
    "@app.route('/')\n",
    "def index():\n",
    "    return render_template('index.html')"
   ]
  },
  {
   "cell_type": "code",
   "execution_count": 3,
   "id": "ab246c3b",
   "metadata": {},
   "outputs": [],
   "source": [
    "@app.route('/predict',methods=['POST','GET'])\n",
    "def predict():\n",
    "\n",
    "#     if request.method == 'POST':\n",
    "\n",
    "        # age = int(request.form['age'])\n",
    "        # time_in_hospital = int(request.form['time_in_hospital'])\n",
    "        # number_of_procedures = int(request.form['number_of_procedures'])\n",
    "        # number_of_medications = int(request.form['number_of_medications'])\n",
    "        # race = int(request.form['race'])\n",
    "        # gender = int(request.form['gender'])\n",
    "\n",
    "        int_features = [75, 1, 0, 1, 2, 1]\n",
    "        final_features = [np.array(int_features)]\n",
    "        prediction = model.predict(final_features)\n",
    "        \n",
    "        print(prediction)\n",
    "\n",
    "        # prediction = model.predict([[age, time_in_hospital, number_of_procedures, number_of_medications, race, gender]])\n",
    "        # output = round(prediction[0],2)\n",
    "\n",
    "#         if prediction == 0:\n",
    "#             return render_template('index.html', prediction_text='Low chances of patient readmitted to hospital within 30 days.')\n",
    "#         else:\n",
    "#             return render_template('index.html', prediction_text='High chances of patient readmitted to hospital within 30 days')\n",
    "\n",
    "\n",
    "#     else:\n",
    "#         return render_template('index.html')\n",
    "\n",
    "# if __name__ == \"__main__\":\n",
    "#     app.run(debug=True)"
   ]
  },
  {
   "cell_type": "code",
   "execution_count": 4,
   "id": "cc4f03c9",
   "metadata": {},
   "outputs": [
    {
     "name": "stdout",
     "output_type": "stream",
     "text": [
      "[1]\n"
     ]
    }
   ],
   "source": [
    "predict()"
   ]
  },
  {
   "cell_type": "code",
   "execution_count": null,
   "id": "9dfdb073",
   "metadata": {},
   "outputs": [],
   "source": []
  }
 ],
 "metadata": {
  "kernelspec": {
   "display_name": "Python 3",
   "language": "python",
   "name": "python3"
  },
  "language_info": {
   "codemirror_mode": {
    "name": "ipython",
    "version": 3
   },
   "file_extension": ".py",
   "mimetype": "text/x-python",
   "name": "python",
   "nbconvert_exporter": "python",
   "pygments_lexer": "ipython3",
   "version": "3.8.8"
  }
 },
 "nbformat": 4,
 "nbformat_minor": 5
}
